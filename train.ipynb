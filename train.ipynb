{
 "cells": [
  {
   "cell_type": "code",
   "execution_count": 1,
   "metadata": {},
   "outputs": [],
   "source": [
    "import pandas as pd\n",
    "from sklearn.model_selection import train_test_split\n",
    "from sklearn.feature_extraction.text import TfidfVectorizer\n",
    "from sklearn.linear_model import LogisticRegression, SGDClassifier\n",
    "from sklearn.naive_bayes import MultinomialNB\n",
    "from sklearn.ensemble import RandomForestClassifier\n",
    "from sklearn.metrics import accuracy_score, classification_report\n",
    "from sklearn.pipeline import Pipeline"
   ]
  },
  {
   "attachments": {},
   "cell_type": "markdown",
   "metadata": {},
   "source": [
    "# Load prepared data"
   ]
  },
  {
   "cell_type": "code",
   "execution_count": 2,
   "metadata": {},
   "outputs": [],
   "source": [
    "def load_data(train_path='train.csv', validation_path='validation.csv', test_path='test.csv'):\n",
    "    train_data = pd.read_csv(train_path)\n",
    "    validation_data = pd.read_csv(validation_path)\n",
    "    test_data = pd.read_csv(test_path)\n",
    "    return train_data, validation_data, test_data"
   ]
  },
  {
   "attachments": {},
   "cell_type": "markdown",
   "metadata": {},
   "source": [
    "# Training and Evaluating a model"
   ]
  },
  {
   "cell_type": "code",
   "execution_count": 3,
   "metadata": {},
   "outputs": [],
   "source": [
    "def train_and_evaluate(X_train, y_train, X_val, y_val, pipeline):\n",
    "    \"\"\"\n",
    "    Train a model and evaluate it on the training and validation datasets.\n",
    "\n",
    "    Parameters:\n",
    "    - X_train: Training features\n",
    "    - y_train: Training labels\n",
    "    - X_val: Validation features\n",
    "    - y_val: Validation labels\n",
    "    - pipeline: A pipeline that includes the TF-IDF vectorization and a classifier.\n",
    "    \"\"\"\n",
    "    pipeline.fit(X_train, y_train)\n",
    "    print(\"Training accuracy: \", pipeline.score(X_train, y_train))\n",
    "    print(\"Validation accuracy: \", pipeline.score(X_val, y_val))\n",
    "    y_pred = pipeline.predict(X_val)\n",
    "    print(\"Classification report:\\n\", classification_report(y_val, y_pred))"
   ]
  },
  {
   "attachments": {},
   "cell_type": "markdown",
   "metadata": {},
   "source": [
    "# Benchmarking different models"
   ]
  },
  {
   "cell_type": "code",
   "execution_count": 4,
   "metadata": {},
   "outputs": [],
   "source": [
    "def benchmark_models(train_data, validation_data, test_data):\n",
    "    X_train, y_train = train_data['text'], train_data['spam']\n",
    "    X_val, y_val = validation_data['text'], validation_data['spam']\n",
    "    X_test, y_test = test_data['text'], test_data['spam']\n",
    "    \n",
    "    models = [\n",
    "        (\"Logistic Regression\", LogisticRegression(max_iter=1000)),\n",
    "        (\"Multinomial NB\", MultinomialNB()),\n",
    "        (\"Random Forest\", RandomForestClassifier()),\n",
    "        (\"SGD Classifier\", SGDClassifier())\n",
    "    ]\n",
    "    \n",
    "    for name, model in models:\n",
    "        print(f\"\\n{name}:\")\n",
    "        pipeline = Pipeline([\n",
    "            ('tfidf', TfidfVectorizer(stop_words='english')),\n",
    "            ('classifier', model),\n",
    "        ])\n",
    "        train_and_evaluate(X_train, y_train, X_val, y_val, pipeline)\n",
    "        print(f\"Test accuracy for {name}: {pipeline.score(X_test, y_test)}\")"
   ]
  },
  {
   "attachments": {},
   "cell_type": "markdown",
   "metadata": {},
   "source": [
    "# Main function to execute training and evaluation"
   ]
  },
  {
   "cell_type": "code",
   "execution_count": 5,
   "metadata": {},
   "outputs": [],
   "source": [
    "def main():\n",
    "    train_data, validation_data, test_data = load_data()  \n",
    "    benchmark_models(train_data, validation_data, test_data)"
   ]
  },
  {
   "cell_type": "code",
   "execution_count": 6,
   "metadata": {},
   "outputs": [
    {
     "name": "stdout",
     "output_type": "stream",
     "text": [
      "\n",
      "Logistic Regression:\n",
      "Training accuracy:  0.9951986032300305\n",
      "Validation accuracy:  0.9733163913595934\n",
      "Classification report:\n",
      "               precision    recall  f1-score   support\n",
      "\n",
      "           0       0.97      1.00      0.98       589\n",
      "           1       0.99      0.90      0.94       198\n",
      "\n",
      "    accuracy                           0.97       787\n",
      "   macro avg       0.98      0.95      0.96       787\n",
      "weighted avg       0.97      0.97      0.97       787\n",
      "\n",
      "Test accuracy for Logistic Regression: 0.9777158774373259\n",
      "\n",
      "Multinomial NB:\n",
      "Training accuracy:  0.9484941073766914\n",
      "Validation accuracy:  0.8856416772554002\n",
      "Classification report:\n",
      "               precision    recall  f1-score   support\n",
      "\n",
      "           0       0.87      1.00      0.93       589\n",
      "           1       1.00      0.55      0.71       198\n",
      "\n",
      "    accuracy                           0.89       787\n",
      "   macro avg       0.93      0.77      0.82       787\n",
      "weighted avg       0.90      0.89      0.87       787\n",
      "\n",
      "Test accuracy for Multinomial NB: 0.9136490250696379\n",
      "\n",
      "Random Forest:\n",
      "Training accuracy:  1.0\n",
      "Validation accuracy:  0.9695044472681067\n",
      "Classification report:\n",
      "               precision    recall  f1-score   support\n",
      "\n",
      "           0       0.96      1.00      0.98       589\n",
      "           1       0.99      0.88      0.94       198\n",
      "\n",
      "    accuracy                           0.97       787\n",
      "   macro avg       0.98      0.94      0.96       787\n",
      "weighted avg       0.97      0.97      0.97       787\n",
      "\n",
      "Test accuracy for Random Forest: 0.9749303621169917\n",
      "\n",
      "SGD Classifier:\n",
      "Training accuracy:  1.0\n",
      "Validation accuracy:  0.9898348157560356\n",
      "Classification report:\n",
      "               precision    recall  f1-score   support\n",
      "\n",
      "           0       0.99      1.00      0.99       589\n",
      "           1       0.99      0.96      0.98       198\n",
      "\n",
      "    accuracy                           0.99       787\n",
      "   macro avg       0.99      0.98      0.99       787\n",
      "weighted avg       0.99      0.99      0.99       787\n",
      "\n",
      "Test accuracy for SGD Classifier: 0.9944289693593314\n"
     ]
    }
   ],
   "source": [
    "if __name__ == '__main__':\n",
    "    main()"
   ]
  },
  {
   "attachments": {},
   "cell_type": "markdown",
   "metadata": {},
   "source": [
    "### Based on the Validation Accuracy and the Test Accuracy of the above 4 models, we can say that the SGD Classifier model is the best model\n",
    "\n",
    "#### Now since the achieved  best Test Accuracy is already greater than 99%, I am not fine-tuning the model any further"
   ]
  },
  {
   "cell_type": "code",
   "execution_count": null,
   "metadata": {},
   "outputs": [],
   "source": []
  }
 ],
 "metadata": {
  "kernelspec": {
   "display_name": "Python 3",
   "language": "python",
   "name": "python3"
  },
  "language_info": {
   "codemirror_mode": {
    "name": "ipython",
    "version": 3
   },
   "file_extension": ".py",
   "mimetype": "text/x-python",
   "name": "python",
   "nbconvert_exporter": "python",
   "pygments_lexer": "ipython3",
   "version": "3.10.9 (main, Jan 28 2023, 21:27:00) [Clang 14.0.0 (clang-1400.0.29.202)]"
  },
  "orig_nbformat": 4,
  "vscode": {
   "interpreter": {
    "hash": "1223e1bb6f70b4e85dab1ecdac04c42cbf45c1eafc17bc1f0f72cf403c1b7f17"
   }
  }
 },
 "nbformat": 4,
 "nbformat_minor": 2
}
